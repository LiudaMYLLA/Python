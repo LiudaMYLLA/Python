{
 "cells": [
  {
   "cell_type": "markdown",
   "metadata": {},
   "source": [
    "# 0. Імпортувати numpy загальноприйнятим способом."
   ]
  },
  {
   "cell_type": "code",
   "execution_count": 4,
   "metadata": {},
   "outputs": [],
   "source": [
    "import numpy as np \n"
   ]
  },
  {
   "cell_type": "markdown",
   "metadata": {},
   "source": [
    " # 0. Імпортувати бібліотеку pandas."
   ]
  },
  {
   "cell_type": "code",
   "execution_count": 5,
   "metadata": {},
   "outputs": [],
   "source": [
    "import pandas as pd\n",
    "\n"
   ]
  },
  {
   "cell_type": "markdown",
   "metadata": {},
   "source": [
    "# 1.Визначити список з оцінками студента(ки) за семестр. Використовуючи його, створити одновимірний масив numpy."
   ]
  },
  {
   "cell_type": "code",
   "execution_count": 6,
   "metadata": {},
   "outputs": [],
   "source": [
    "grades = [88, 92, 85, 91, 75]\n",
    "grades_array = np.array(grades)"
   ]
  },
  {
   "cell_type": "markdown",
   "metadata": {},
   "source": [
    "# 2.Визначити список зі списками, де кожен рядок списку формально означає магазин, а кожна колонка - певний продукт\n",
    "# (батон, яйця першої категорії, молоко та ковбаса), а елементами на пересічі є ціни на ці продукти відповідно.\n",
    "#Використовуючи цей список, створити матрицю (двовимірний масив) numpy."
   ]
  },
  {
   "cell_type": "code",
   "execution_count": 7,
   "metadata": {},
   "outputs": [],
   "source": [
    "products = [\n",
    "    [25.5, 7.5, 22.0, 45.2],  #Ціни в першому магазині\n",
    "    [26.0, 8.0, 21.5, 44.5],  #Ціни в другому магазині\n",
    "    [25.0, 7.0, 22.5, 46.0]   #Ціни в третьому магазині\n",
    "]\n",
    "product_matrix = np.array(products)"
   ]
  },
  {
   "cell_type": "markdown",
   "metadata": {},
   "source": [
    "# 3 Отримайте тип даних значень з масивів завдань 2 та 3. Виведіть їх на екран."
   ]
  },
  {
   "cell_type": "code",
   "execution_count": 8,
   "metadata": {},
   "outputs": [
    {
     "name": "stdout",
     "output_type": "stream",
     "text": [
      "Тип даних масиву grades_array: int64\n",
      "Тип даних матриці product_matrix: float64\n"
     ]
    }
   ],
   "source": [
    "print(\"Тип даних масиву grades_array:\", grades_array.dtype)\n",
    "print(\"Тип даних матриці product_matrix:\", product_matrix.dtype)"
   ]
  },
  {
   "cell_type": "markdown",
   "metadata": {},
   "source": [
    "# 4Отримайте форми (кортеж з кількістю рядків та колонок) масивів завдань 2 та 3. Виведіть їх на екран."
   ]
  },
  {
   "cell_type": "code",
   "execution_count": null,
   "metadata": {},
   "outputs": [],
   "source": [
    "print(\"Форма масиву grades_array:\", grades_array.shape)\n",
    "print(\"Форма матриці product_matrix:\", product_matrix.shape)"
   ]
  },
  {
   "cell_type": "code",
   "execution_count": null,
   "metadata": {},
   "outputs": [],
   "source": [
    "# 5.Створіть одновимірний масив за допомогою спеціальної функції numpy, який би відображав динаміку стабільно зростаючого\n",
    "# (з рівними проміжками) прибутку з продажів за тиждень, де у перший день не було продажів, а в останній день тижня\n",
    "# вдалося заробити 1000 грн 50 коп."
   ]
  },
  {
   "cell_type": "code",
   "execution_count": 9,
   "metadata": {},
   "outputs": [
    {
     "name": "stdout",
     "output_type": "stream",
     "text": [
      "динаміка прибутку за тиждень: [   0.    166.75  333.5   500.25  667.    833.75 1000.5 ]\n"
     ]
    }
   ],
   "source": [
    "weekly_profits = np.linspace(0, 1000.50, 7)\n",
    "print(\"динаміка прибутку за тиждень:\", weekly_profits)"
   ]
  },
  {
   "cell_type": "markdown",
   "metadata": {},
   "source": [
    "# 6.Створіть два масиви. Використовуючи їх, продемонструйте відмінність вертикального та горизонтального обʼєднання масивів."
   ]
  },
  {
   "cell_type": "code",
   "execution_count": 10,
   "metadata": {},
   "outputs": [
    {
     "name": "stdout",
     "output_type": "stream",
     "text": [
      "вертикальне об'єднння:\\n [[1 2 3]\n",
      " [4 5 6]]\n",
      "щоризонтальне об'єднання:\\n [1 2 3 4 5 6]\n"
     ]
    }
   ],
   "source": [
    "array1 = np.array([1, 2, 3])\n",
    "array2 = np.array([4, 5, 6])\n",
    "vertical_concat = np.vstack((array1, array2))\n",
    "horizontal_concat = np.hstack((array1, array2))\n",
    "print(\"вертикальне об'єднння:\\\\n\", vertical_concat)\n",
    "print(\"щоризонтальне об'єднання:\\\\n\", horizontal_concat)"
   ]
  },
  {
   "cell_type": "markdown",
   "metadata": {},
   "source": [
    "# 7.Визначити функцію, яка приймає на вході масив і транспонує його."
   ]
  },
  {
   "cell_type": "code",
   "execution_count": 11,
   "metadata": {},
   "outputs": [
    {
     "name": "stdout",
     "output_type": "stream",
     "text": [
      "Транспонована матриця: [[25.5 26.  25. ]\n",
      " [ 7.5  8.   7. ]\n",
      " [22.  21.5 22.5]\n",
      " [45.2 44.5 46. ]]\n"
     ]
    }
   ],
   "source": [
    "def transpose_array(array):\n",
    "    return array.T\n",
    "\n",
    "transposed = transpose_array(product_matrix)\n",
    "print(\"Транспонована матриця:\", transposed)"
   ]
  },
  {
   "cell_type": "markdown",
   "metadata": {},
   "source": [
    "# 8. Створіть два масиви. Використовуючи ці масиви, продемонструйте:"
   ]
  },
  {
   "cell_type": "code",
   "execution_count": 12,
   "metadata": {},
   "outputs": [],
   "source": [
    "array3 = np.array([1, 2, 3])\n",
    "array4 = np.array([4, 5, 6])"
   ]
  },
  {
   "cell_type": "markdown",
   "metadata": {},
   "source": [
    "# 1) операцію по-елементного додавання"
   ]
  },
  {
   "cell_type": "code",
   "execution_count": 13,
   "metadata": {},
   "outputs": [],
   "source": [
    "element_addition = array3 + array4"
   ]
  },
  {
   "cell_type": "markdown",
   "metadata": {},
   "source": [
    "# 2)операцію по-елементного віднімання"
   ]
  },
  {
   "cell_type": "code",
   "execution_count": 14,
   "metadata": {},
   "outputs": [],
   "source": [
    "element_subtraction = array3 - array4"
   ]
  },
  {
   "cell_type": "markdown",
   "metadata": {},
   "source": [
    "# 3)множення масиву на число"
   ]
  },
  {
   "cell_type": "code",
   "execution_count": 15,
   "metadata": {},
   "outputs": [],
   "source": [
    "array_scalar_multiplication = array3 * 2"
   ]
  },
  {
   "cell_type": "markdown",
   "metadata": {},
   "source": [
    "# 4)операцію по-елементного множення"
   ]
  },
  {
   "cell_type": "code",
   "execution_count": 16,
   "metadata": {},
   "outputs": [],
   "source": [
    "element_multiplication = array3 * array4"
   ]
  },
  {
   "cell_type": "markdown",
   "metadata": {},
   "source": [
    "# 5)матричного множення"
   ]
  },
  {
   "cell_type": "code",
   "execution_count": 17,
   "metadata": {},
   "outputs": [
    {
     "name": "stdout",
     "output_type": "stream",
     "text": [
      "По-елементне додавання: [5 7 9]\n",
      "По-елементне віднімання: [-3 -3 -3]\n",
      "Множення масиву на число: [2 4 6]\n",
      "По-елементне множення: [ 4 10 18]\n",
      "Матричне множення: [[ 4  5  6]\n",
      " [ 8 10 12]\n",
      " [12 15 18]]\n"
     ]
    }
   ],
   "source": [
    "matrix_multiplication = np.dot(array3.reshape(-1, 1), array4.reshape(1, -1))\n",
    "print(\"По-елементне додавання:\", element_addition)\n",
    "print(\"По-елементне віднімання:\", element_subtraction)\n",
    "print(\"Множення масиву на число:\", array_scalar_multiplication)\n",
    "print(\"По-елементне множення:\", element_multiplication)\n",
    "print(\"Матричне множення:\", matrix_multiplication)"
   ]
  },
  {
   "cell_type": "markdown",
   "metadata": {},
   "source": [
    "# 9.Створіть двовимірний масив (матрицю) та розрахуйте:"
   ]
  },
  {
   "cell_type": "code",
   "execution_count": 18,
   "metadata": {},
   "outputs": [],
   "source": [
    "matrix = np.array([[1, 2, 3], [4, 5, 6], [7, 8, 9]])"
   ]
  },
  {
   "cell_type": "markdown",
   "metadata": {},
   "source": [
    "# 1) мінімальне число"
   ]
  },
  {
   "cell_type": "code",
   "execution_count": 19,
   "metadata": {},
   "outputs": [],
   "source": [
    "min_value = np.min(matrix)"
   ]
  },
  {
   "cell_type": "markdown",
   "metadata": {},
   "source": [
    "# 2) максимальне число"
   ]
  },
  {
   "cell_type": "code",
   "execution_count": 20,
   "metadata": {},
   "outputs": [],
   "source": [
    "max_value = np.max(matrix)"
   ]
  },
  {
   "cell_type": "markdown",
   "metadata": {},
   "source": [
    "# 3) суму чисел"
   ]
  },
  {
   "cell_type": "code",
   "execution_count": 21,
   "metadata": {},
   "outputs": [],
   "source": [
    "sum_values = np.sum(matrix)"
   ]
  },
  {
   "cell_type": "markdown",
   "metadata": {},
   "source": [
    "# 4) мінімальні числа для кожного рядка"
   ]
  },
  {
   "cell_type": "code",
   "execution_count": 22,
   "metadata": {},
   "outputs": [],
   "source": [
    "min_row_values = np.min(matrix, axis=1)"
   ]
  },
  {
   "cell_type": "markdown",
   "metadata": {},
   "source": [
    "# 5) максимальні числа для кожного стовпчика"
   ]
  },
  {
   "cell_type": "code",
   "execution_count": 23,
   "metadata": {},
   "outputs": [
    {
     "name": "stdout",
     "output_type": "stream",
     "text": [
      "Мінімальне число: 1\n",
      "Максимальне число: 9\n",
      "Сума чисел: 45\n",
      "Мінімальні числа для кожного рядка: [1 4 7]\n",
      "Максимальні числа для кожного стовпчика: [7 8 9]\n"
     ]
    }
   ],
   "source": [
    "max_column_values = np.max(matrix, axis=0)\n",
    "print(\"Мінімальне число:\", min_value)\n",
    "print(\"Максимальне число:\", max_value)\n",
    "print(\"Сума чисел:\", sum_values)\n",
    "print(\"Мінімальні числа для кожного рядка:\", min_row_values)\n",
    "print(\"Максимальні числа для кожного стовпчика:\", max_column_values)"
   ]
  },
  {
   "cell_type": "markdown",
   "metadata": {},
   "source": [
    "# 10. Створіть матрицю, де деякі елементи повторюються. Знайдіть унікальні значення елементів цієї матриці та їхні частоти."
   ]
  },
  {
   "cell_type": "code",
   "execution_count": 24,
   "metadata": {},
   "outputs": [
    {
     "name": "stdout",
     "output_type": "stream",
     "text": [
      "Унікальні значення: [1 2 3 4]\n",
      "Частоти значень: [1 3 4 1]\n"
     ]
    }
   ],
   "source": [
    "repeated_matrix = np.array([[1, 2, 2], [2, 3, 3], [3, 3, 4]])\n",
    "unique_values, counts = np.unique(repeated_matrix, return_counts=True)\n",
    "print(\"Унікальні значення:\", unique_values)\n",
    "print(\"Частоти значень:\", counts)"
   ]
  },
  {
   "cell_type": "markdown",
   "metadata": {},
   "source": [
    "# II. Importing. Creating DF            Винесла на початок !!!!\n",
    "# 11.Створити тестовий датафрейм зі списку, що містить записи пацієнтів про їхні прізвища, імена, дату народження, масу тіла та наявність медичного страхування. Одне зі значень зробить пустим."
   ]
  },
  {
   "cell_type": "code",
   "execution_count": 25,
   "metadata": {},
   "outputs": [
    {
     "name": "stdout",
     "output_type": "stream",
     "text": [
      "  Прізвище     Ім'я Дата народження  Маса тіла  Медичне страхування\n",
      "0    Рибак  Людмила      2006-06-08       54.0                 True\n",
      "1    Рибак  Людмила      2006-06-08       50.0                False\n",
      "2    Рибак  Людмила      2006-06-08        NaN                 True\n",
      "  Прізвище     Ім'я Дата народження  Маса тіла  Медичне страхування\n",
      "0    Рибак  Людмила      2006-06-08       54.0                 True\n",
      "1    Рибак  Людмила      2006-06-08       50.0                False\n",
      "2    Рибак  Людмила      2006-06-08        NaN                 True\n"
     ]
    }
   ],
   "source": [
    "data = {\n",
    "    'Прізвище': ['Рибак', 'Рибак', 'Рибак'],\n",
    "    'Ім\\'я': ['Людмила', 'Людмила', 'Людмила'],\n",
    "    'Дата народження': ['2006-06-08', '2006-06-08', '2006-06-08'],\n",
    "    'Маса тіла': [54, 50, None],  # None для відсутніх даних\n",
    "    'Медичне страхування': [True, False, True]\n",
    "}\n",
    "df = pd.DataFrame(data)\n",
    "print(df)\n",
    "\n",
    "df = pd.DataFrame(data)\n",
    "print(df)\n"
   ]
  },
  {
   "cell_type": "markdown",
   "metadata": {},
   "source": [
    "# III. Reading from file\n",
    "#12.Завантажити файл missile_attacks_daily.csv з [Kaggle](https:\n",
    "#//www.kaggle.com/datasets/piterfm/massive-missile-attacks-on-ukraine?select=missile_attacks_daily.csv).\n",
    "#Ознайомитись з описом датасету. Додати файл до папки поточної сесії colab notebook на панелі ліворуч або на гугл диск (локально до проєкту, якщо працюєте у пайчармі).\n",
    "#Зчитати датафрейм з файлу та вивести датафрейм на екран.\n",
    "#Зверніть увагу на те, щоб всі колонки відповідали наведеним у описі типам даних."
   ]
  },
  {
   "cell_type": "code",
   "execution_count": 27,
   "metadata": {},
   "outputs": [],
   "source": [
    "path_to_missiles = 'archive/missile_attacks_daily.csv'\n",
    "path_to_uav = 'archive/missiles_and_uav.csv'\n",
    "#зчитування з файлів\n",
    "df_missile_attacks = pd.read_csv(path_to_missiles)\n",
    "df_missiles_and_uav = pd.read_csv(path_to_uav)"
   ]
  },
  {
   "cell_type": "code",
   "execution_count": 28,
   "metadata": {},
   "outputs": [
    {
     "name": "stdout",
     "output_type": "stream",
     "text": [
      "Информация о missile_attacks_daily.csv:\n",
      "<class 'pandas.core.frame.DataFrame'>\n",
      "RangeIndex: 2079 entries, 0 to 2078\n",
      "Data columns (total 17 columns):\n",
      " #   Column                Non-Null Count  Dtype  \n",
      "---  ------                --------------  -----  \n",
      " 0   time_start            2079 non-null   object \n",
      " 1   time_end              2079 non-null   object \n",
      " 2   model                 2079 non-null   object \n",
      " 3   launch_place          1050 non-null   object \n",
      " 4   target                2051 non-null   object \n",
      " 5   carrier               227 non-null    object \n",
      " 6   launched              2076 non-null   float64\n",
      " 7   destroyed             2075 non-null   float64\n",
      " 8   not_reach_goal        172 non-null    float64\n",
      " 9   cross_border_belarus  33 non-null     float64\n",
      " 10  back_russia           35 non-null     float64\n",
      " 11  still_attacking       31 non-null     float64\n",
      " 12  affected region       8 non-null      object \n",
      " 13  destroyed_details     309 non-null    object \n",
      " 14  launched_details      4 non-null      object \n",
      " 15  launch_place_details  4 non-null      object \n",
      " 16  source                2079 non-null   object \n",
      "dtypes: float64(6), object(11)\n",
      "memory usage: 276.2+ KB\n",
      "None\n",
      "\n",
      "Первые строки данных missile_attacks_daily.csv:\n",
      "         time_start          time_end           model  \\\n",
      "0  2025-02-02 19:00  2025-02-03 09:00  Shahed-136/131   \n",
      "1  2025-02-01 21:00  2025-02-02 09:00  Shahed-136/131   \n",
      "2        2025-02-02        2025-02-02          Молнія   \n",
      "3        2025-02-02        2025-02-02            ZALA   \n",
      "4        2025-02-02        2025-02-02        Supercam   \n",
      "\n",
      "                                        launch_place   target carrier  \\\n",
      "0  Primorsko-Akhtarsk and Chauda, Crimea and Kurs...  Ukraine     NaN   \n",
      "1  Primorsko-Akhtarsk and Kursk oblast and Oryol ...  Ukraine     NaN   \n",
      "2                                                NaN    south     NaN   \n",
      "3                                                NaN    south     NaN   \n",
      "4                                                NaN    south     NaN   \n",
      "\n",
      "   launched  destroyed  not_reach_goal  cross_border_belarus  back_russia  \\\n",
      "0      71.0       38.0            25.0                   NaN          NaN   \n",
      "1      55.0       40.0            13.0                   NaN          NaN   \n",
      "2       5.0        5.0             NaN                   NaN          NaN   \n",
      "3       3.0        3.0             NaN                   NaN          NaN   \n",
      "4       5.0        5.0             NaN                   NaN          NaN   \n",
      "\n",
      "   still_attacking                                    affected region  \\\n",
      "0              NaN  ['Kharkiv oblast', 'Sumy oblast', 'Cherkasy ob...   \n",
      "1              NaN                  ['Kharkiv oblast', 'Sumy oblast']   \n",
      "2              NaN                                                NaN   \n",
      "3              NaN                                                NaN   \n",
      "4              NaN                                                NaN   \n",
      "\n",
      "                                   destroyed_details launched_details  \\\n",
      "0  {'Khmelnytskyi oblast': 2, 'Vinnytsia oblast':...              NaN   \n",
      "1  {'Odesa oblast and Mykolaiv oblast and Kherson...              NaN   \n",
      "2                                                NaN              NaN   \n",
      "3                                                NaN              NaN   \n",
      "4                                                NaN              NaN   \n",
      "\n",
      "  launch_place_details                                             source  \n",
      "0                  NaN  kpszsu/posts/pfbid02yjEwUfnvhyxx8yYjoAw6wquEj4...  \n",
      "1                  NaN  kpszsu/posts/pfbid027MDQHcpoaCZUeSLdSzw2kokeGh...  \n",
      "2                  NaN  PvKPivden/posts/pfbid025PREGufqtUXiDK2RuHeS644...  \n",
      "3                  NaN  PvKPivden/posts/pfbid025PREGufqtUXiDK2RuHeS644...  \n",
      "4                  NaN  PvKPivden/posts/pfbid025PREGufqtUXiDK2RuHeS644...  \n",
      "\n",
      "Информация о missiles_and_uav.csv:\n",
      "<class 'pandas.core.frame.DataFrame'>\n",
      "RangeIndex: 46 entries, 0 to 45\n",
      "Data columns (total 12 columns):\n",
      " #   Column           Non-Null Count  Dtype  \n",
      "---  ------           --------------  -----  \n",
      " 0   model            46 non-null     object \n",
      " 1   category         46 non-null     object \n",
      " 2   national_origin  43 non-null     object \n",
      " 3   type             33 non-null     object \n",
      " 4   launch_platform  17 non-null     object \n",
      " 5   name             20 non-null     object \n",
      " 6   name_NATO        15 non-null     object \n",
      " 7   in_sevice        5 non-null      float64\n",
      " 8   designer         2 non-null      object \n",
      " 9   manufacturer     19 non-null     object \n",
      " 10  guidance_system  2 non-null      object \n",
      " 11  unit_cost        1 non-null      object \n",
      "dtypes: float64(1), object(11)\n",
      "memory usage: 4.4+ KB\n",
      "None\n",
      "\n",
      "Первые строки данных missiles_and_uav.csv:\n",
      "                    model                category national_origin type  \\\n",
      "0         Unknown Missile          cruise missile             NaN  NaN   \n",
      "1               X-22/X-32          cruise missile          russia  NaN   \n",
      "2             C-300/C-400  surface-to-air missile          russia  NaN   \n",
      "3  X-101/X-555 and Kalibr          cruise missile          russia  NaN   \n",
      "4               X-59/X-69          cruise missile          russia  NaN   \n",
      "\n",
      "  launch_platform name name_NATO  in_sevice designer manufacturer  \\\n",
      "0             NaN  NaN       NaN        NaN      NaN          NaN   \n",
      "1             NaN  NaN       NaN        NaN      NaN          NaN   \n",
      "2             NaN  NaN       NaN        NaN      NaN          NaN   \n",
      "3             NaN  NaN       NaN        NaN      NaN          NaN   \n",
      "4             NaN  NaN       NaN        NaN      NaN          NaN   \n",
      "\n",
      "  guidance_system unit_cost  \n",
      "0             NaN       NaN  \n",
      "1             NaN       NaN  \n",
      "2             NaN       NaN  \n",
      "3             NaN       NaN  \n",
      "4             NaN       NaN  \n"
     ]
    }
   ],
   "source": [
    "#вивід у консоль\n",
    "print(\"Информация о missile_attacks_daily.csv:\")\n",
    "print(df_missile_attacks.info())\n",
    "print(\"\\nПервые строки данных missile_attacks_daily.csv:\")\n",
    "print(df_missile_attacks.head())\n",
    "\n",
    "print(\"\\nИнформация о missiles_and_uav.csv:\")\n",
    "print(df_missiles_and_uav.info())\n",
    "print(\"\\nПервые строки данных missiles_and_uav.csv:\")\n",
    "print(df_missiles_and_uav.head())\n"
   ]
  },
  {
   "cell_type": "markdown",
   "metadata": {},
   "source": [
    "# IV. Data understanding\n",
    "# 13 Виведіть на екран перші 10 рядків зчитаного датафрейму."
   ]
  },
  {
   "cell_type": "code",
   "execution_count": 29,
   "metadata": {},
   "outputs": [
    {
     "name": "stdout",
     "output_type": "stream",
     "text": [
      "         time_start          time_end           model  \\\n",
      "0  2025-02-02 19:00  2025-02-03 09:00  Shahed-136/131   \n",
      "1  2025-02-01 21:00  2025-02-02 09:00  Shahed-136/131   \n",
      "2        2025-02-02        2025-02-02          Молнія   \n",
      "3        2025-02-02        2025-02-02            ZALA   \n",
      "4        2025-02-02        2025-02-02        Supercam   \n",
      "5        2025-02-02        2025-02-02          Lancet   \n",
      "6  2025-01-31 19:00  2025-02-01 09:00       X-59/X-69   \n",
      "7  2025-01-31 19:00  2025-02-01 09:00           X-31P   \n",
      "8  2025-01-31 19:00  2025-02-01 09:00       X-22/X-32   \n",
      "9  2025-01-31 19:00  2025-02-01 09:00     X-101/X-555   \n",
      "\n",
      "                                        launch_place   target  carrier  \\\n",
      "0  Primorsko-Akhtarsk and Chauda, Crimea and Kurs...  Ukraine      NaN   \n",
      "1  Primorsko-Akhtarsk and Kursk oblast and Oryol ...  Ukraine      NaN   \n",
      "2                                                NaN    south      NaN   \n",
      "3                                                NaN    south      NaN   \n",
      "4                                                NaN    south      NaN   \n",
      "5                                                NaN    south      NaN   \n",
      "6                                    Voronezh oblast  Ukraine      NaN   \n",
      "7                                          Black Sea  Ukraine      NaN   \n",
      "8                                                NaN  Ukraine  Tu-22M3   \n",
      "9                                                NaN  Ukraine  Tu-95MS   \n",
      "\n",
      "   launched  destroyed  not_reach_goal  cross_border_belarus  back_russia  \\\n",
      "0      71.0       38.0            25.0                   NaN          NaN   \n",
      "1      55.0       40.0            13.0                   NaN          NaN   \n",
      "2       5.0        5.0             NaN                   NaN          NaN   \n",
      "3       3.0        3.0             NaN                   NaN          NaN   \n",
      "4       5.0        5.0             NaN                   NaN          NaN   \n",
      "5       1.0        1.0             NaN                   NaN          NaN   \n",
      "6      10.0        NaN             NaN                   NaN          NaN   \n",
      "7       2.0        NaN             NaN                   NaN          NaN   \n",
      "8       8.0        NaN             NaN                   NaN          NaN   \n",
      "9       8.0        NaN             NaN                   NaN          NaN   \n",
      "\n",
      "   still_attacking                                    affected region  \\\n",
      "0              NaN  ['Kharkiv oblast', 'Sumy oblast', 'Cherkasy ob...   \n",
      "1              NaN                  ['Kharkiv oblast', 'Sumy oblast']   \n",
      "2              NaN                                                NaN   \n",
      "3              NaN                                                NaN   \n",
      "4              NaN                                                NaN   \n",
      "5              NaN                                                NaN   \n",
      "6              NaN                                                NaN   \n",
      "7              NaN                                                NaN   \n",
      "8              NaN                                                NaN   \n",
      "9              NaN                                                NaN   \n",
      "\n",
      "                                   destroyed_details launched_details  \\\n",
      "0  {'Khmelnytskyi oblast': 2, 'Vinnytsia oblast':...              NaN   \n",
      "1  {'Odesa oblast and Mykolaiv oblast and Kherson...              NaN   \n",
      "2                                                NaN              NaN   \n",
      "3                                                NaN              NaN   \n",
      "4                                                NaN              NaN   \n",
      "5                                                NaN              NaN   \n",
      "6                                                NaN              NaN   \n",
      "7                                                NaN              NaN   \n",
      "8                                                NaN              NaN   \n",
      "9                                                NaN              NaN   \n",
      "\n",
      "  launch_place_details                                             source  \n",
      "0                  NaN  kpszsu/posts/pfbid02yjEwUfnvhyxx8yYjoAw6wquEj4...  \n",
      "1                  NaN  kpszsu/posts/pfbid027MDQHcpoaCZUeSLdSzw2kokeGh...  \n",
      "2                  NaN  PvKPivden/posts/pfbid025PREGufqtUXiDK2RuHeS644...  \n",
      "3                  NaN  PvKPivden/posts/pfbid025PREGufqtUXiDK2RuHeS644...  \n",
      "4                  NaN  PvKPivden/posts/pfbid025PREGufqtUXiDK2RuHeS644...  \n",
      "5                  NaN  PvKPivden/posts/pfbid025PREGufqtUXiDK2RuHeS644...  \n",
      "6                  NaN  kpszsu/posts/pfbid0aFVytMd4cuXwcV5sNnABLnxXo3r...  \n",
      "7                  NaN  kpszsu/posts/pfbid0aFVytMd4cuXwcV5sNnABLnxXo3r...  \n",
      "8                  NaN  kpszsu/posts/pfbid0aFVytMd4cuXwcV5sNnABLnxXo3r...  \n",
      "9                  NaN  kpszsu/posts/pfbid0aFVytMd4cuXwcV5sNnABLnxXo3r...  \n"
     ]
    }
   ],
   "source": [
    "print(df_missile_attacks.head(10))"
   ]
  },
  {
   "cell_type": "markdown",
   "metadata": {},
   "source": [
    "# 14.Отримайте інформацію про форму датафрейму."
   ]
  },
  {
   "cell_type": "code",
   "execution_count": 30,
   "metadata": {},
   "outputs": [
    {
     "name": "stdout",
     "output_type": "stream",
     "text": [
      "(2079, 17)\n"
     ]
    }
   ],
   "source": [
    "print(df_missile_attacks.shape)"
   ]
  },
  {
   "cell_type": "markdown",
   "metadata": {},
   "source": [
    "# 15.Отримайте дані про кожну колонку з її назвою, типом даних та кількістю непустих значень."
   ]
  },
  {
   "cell_type": "code",
   "execution_count": 31,
   "metadata": {},
   "outputs": [
    {
     "name": "stdout",
     "output_type": "stream",
     "text": [
      "<class 'pandas.core.frame.DataFrame'>\n",
      "RangeIndex: 2079 entries, 0 to 2078\n",
      "Data columns (total 17 columns):\n",
      " #   Column                Non-Null Count  Dtype  \n",
      "---  ------                --------------  -----  \n",
      " 0   time_start            2079 non-null   object \n",
      " 1   time_end              2079 non-null   object \n",
      " 2   model                 2079 non-null   object \n",
      " 3   launch_place          1050 non-null   object \n",
      " 4   target                2051 non-null   object \n",
      " 5   carrier               227 non-null    object \n",
      " 6   launched              2076 non-null   float64\n",
      " 7   destroyed             2075 non-null   float64\n",
      " 8   not_reach_goal        172 non-null    float64\n",
      " 9   cross_border_belarus  33 non-null     float64\n",
      " 10  back_russia           35 non-null     float64\n",
      " 11  still_attacking       31 non-null     float64\n",
      " 12  affected region       8 non-null      object \n",
      " 13  destroyed_details     309 non-null    object \n",
      " 14  launched_details      4 non-null      object \n",
      " 15  launch_place_details  4 non-null      object \n",
      " 16  source                2079 non-null   object \n",
      "dtypes: float64(6), object(11)\n",
      "memory usage: 276.2+ KB\n",
      "None\n"
     ]
    }
   ],
   "source": [
    "print(df_missile_attacks.info())"
   ]
  },
  {
   "cell_type": "markdown",
   "metadata": {},
   "source": [
    "# 16.Отримайте статистику для колонок числового типу."
   ]
  },
  {
   "cell_type": "code",
   "execution_count": 32,
   "metadata": {},
   "outputs": [
    {
     "name": "stdout",
     "output_type": "stream",
     "text": [
      "          launched    destroyed  not_reach_goal  cross_border_belarus  \\\n",
      "count  2076.000000  2075.000000      172.000000             33.000000   \n",
      "mean     11.114644     7.769639       21.720930              2.303030   \n",
      "std      22.047798    14.678258       19.729546              2.023068   \n",
      "min       1.000000     0.000000        1.000000              1.000000   \n",
      "25%       1.000000     1.000000        4.750000              1.000000   \n",
      "50%       2.000000     1.000000       17.500000              2.000000   \n",
      "75%       9.000000     7.000000       31.000000              2.000000   \n",
      "max     193.000000    99.000000      105.000000             10.000000   \n",
      "\n",
      "       back_russia  still_attacking  \n",
      "count    35.000000        31.000000  \n",
      "mean      2.000000         2.709677  \n",
      "std       1.137593         2.818907  \n",
      "min       1.000000         1.000000  \n",
      "25%       1.000000         1.000000  \n",
      "50%       2.000000         1.000000  \n",
      "75%       3.000000         3.500000  \n",
      "max       5.000000        10.000000  \n"
     ]
    }
   ],
   "source": [
    "print(df_missile_attacks.describe())"
   ]
  },
  {
   "cell_type": "markdown",
   "metadata": {},
   "source": [
    "# 17.Отримати кількість унікальних значень у кожній колонці. Вивести на екран значення та кількість цих значень у колонці,\n",
    "# яка має найменше унікальних значень."
   ]
  },
  {
   "cell_type": "code",
   "execution_count": 33,
   "metadata": {},
   "outputs": [
    {
     "name": "stdout",
     "output_type": "stream",
     "text": [
      "time_start               885\n",
      "time_end                1038\n",
      "model                     61\n",
      "launch_place             141\n",
      "target                    99\n",
      "carrier                   58\n",
      "launched                 120\n",
      "destroyed                 83\n",
      "not_reach_goal            58\n",
      "cross_border_belarus       7\n",
      "back_russia                5\n",
      "still_attacking            8\n",
      "affected region            8\n",
      "destroyed_details        305\n",
      "launched_details           4\n",
      "launch_place_details       4\n",
      "source                   980\n",
      "dtype: int64\n",
      "Колонка з найменшою кількістю унікальних значень: launched_details\n",
      "launched_details\n",
      "{'X-101/X-555': 50, 'Kalibr': 12}                     1\n",
      "{'X-101/X-555': 55, 'Kalibr': 24, 'Iskander-K': 7}    1\n",
      "{'X-101/X-555': 57, 'Kalibr': 28}                     1\n",
      "{'X-101/X-555': 77, 'Kalibr': 28, 'X-59/X-69': 10}    1\n",
      "Name: count, dtype: int64\n"
     ]
    }
   ],
   "source": [
    "unique_counts = df_missile_attacks.nunique()\n",
    "print(unique_counts)\n",
    "min_unique_col = unique_counts.idxmin()\n",
    "print(\"Колонка з найменшою кількістю унікальних значень:\", min_unique_col)\n",
    "print(df_missile_attacks[min_unique_col].value_counts())"
   ]
  },
  {
   "cell_type": "markdown",
   "metadata": {},
   "source": [
    "# V. Data Cleaning\n",
    "# 19.Перетворити колонку launched у цілочислену (Int64). Перевірити, чи все пройшло, як очікувалось."
   ]
  },
  {
   "cell_type": "code",
   "execution_count": 34,
   "metadata": {},
   "outputs": [
    {
     "name": "stdout",
     "output_type": "stream",
     "text": [
      "Int64\n"
     ]
    }
   ],
   "source": [
    "df_missile_attacks['launched'] = df_missile_attacks['launched'].astype('Int64')\n",
    "print(df_missile_attacks['launched'].dtype)"
   ]
  },
  {
   "cell_type": "markdown",
   "metadata": {},
   "source": [
    "# 20.Видалити колонки, де кількість непустих значень становить менше 30% від загальної кількості записів."
   ]
  },
  {
   "cell_type": "code",
   "execution_count": 35,
   "metadata": {},
   "outputs": [],
   "source": [
    "threshold = len(df_missile_attacks) * 0.3\n",
    "df_missile_attacks.dropna(thresh=threshold, axis=1, inplace=True)"
   ]
  },
  {
   "cell_type": "markdown",
   "metadata": {},
   "source": [
    "# 21.Очистити датафрейм від дублікатів (дублюючихся рядків) та записів, де атака продовжувалась відʼємну або нульову кількість часу (що фізично неможливо).\n",
    "# Не забудьте оновити індекс."
   ]
  },
  {
   "cell_type": "code",
   "execution_count": 36,
   "metadata": {},
   "outputs": [],
   "source": [
    "df_missile_attacks = df_missile_attacks[df_missile_attacks['launched'] > 0].drop_duplicates().reset_index(drop=True)"
   ]
  },
  {
   "cell_type": "markdown",
   "metadata": {},
   "source": [
    "#22.Виведіть на екран всі рядки, де є хоч одне пропущене значення."
   ]
  },
  {
   "cell_type": "code",
   "execution_count": 37,
   "metadata": {},
   "outputs": [
    {
     "name": "stdout",
     "output_type": "stream",
     "text": [
      "            time_start          time_end               model     launch_place  \\\n",
      "2           2025-02-02        2025-02-02              Молнія              NaN   \n",
      "3           2025-02-02        2025-02-02                ZALA              NaN   \n",
      "4           2025-02-02        2025-02-02            Supercam              NaN   \n",
      "5           2025-02-02        2025-02-02              Lancet              NaN   \n",
      "6     2025-01-31 19:00  2025-02-01 09:00           X-59/X-69  Voronezh oblast   \n",
      "...                ...               ...                 ...              ...   \n",
      "2071  2022-10-01 12:00  2022-10-01 12:00            Orlan-10              NaN   \n",
      "2072        2022-09-30        2022-09-30            Orlan-10              NaN   \n",
      "2073  2022-09-29 23:00  2022-09-29 23:59      Shahed-136/131              NaN   \n",
      "2074        2022-09-28        2022-09-28                X-59              NaN   \n",
      "2075        2022-09-28        2022-09-28  Reconnaissance UAV              NaN   \n",
      "\n",
      "                                             target  launched  destroyed  \\\n",
      "2                                             south         5        5.0   \n",
      "3                                             south         3        3.0   \n",
      "4                                             south         5        5.0   \n",
      "5                                             south         1        1.0   \n",
      "6                                           Ukraine        10        NaN   \n",
      "...                                             ...       ...        ...   \n",
      "2071                                        Ukraine         1        1.0   \n",
      "2072                                        Ukraine         3        3.0   \n",
      "2073               Odesa oblast and Mykolaiv oblast         7        5.0   \n",
      "2074  Dnipropetrovsk oblast and Zaporizhzhia oblast         5        4.0   \n",
      "2075                                        Ukraine         3        3.0   \n",
      "\n",
      "                                                 source  \n",
      "2     PvKPivden/posts/pfbid025PREGufqtUXiDK2RuHeS644...  \n",
      "3     PvKPivden/posts/pfbid025PREGufqtUXiDK2RuHeS644...  \n",
      "4     PvKPivden/posts/pfbid025PREGufqtUXiDK2RuHeS644...  \n",
      "5     PvKPivden/posts/pfbid025PREGufqtUXiDK2RuHeS644...  \n",
      "6     kpszsu/posts/pfbid0aFVytMd4cuXwcV5sNnABLnxXo3r...  \n",
      "...                                                 ...  \n",
      "2071                           watch/?v=375517448001233  \n",
      "2072  kpszsu/posts/pfbid0nELeXY4BpHrezv54Lk3gWPZJmcC...  \n",
      "2073  kpszsu/posts/pfbid021aK2TqryAuB8gGrDYMTv3R8Xiu...  \n",
      "2074  kpszsu/posts/pfbid02sjn5m7kosAfsm5bSUzpPwbLuH3...  \n",
      "2075  kpszsu/posts/pfbid0grmBx6A5LbQ7PVTkSx7jTDgg4iU...  \n",
      "\n",
      "[1052 rows x 8 columns]\n"
     ]
    }
   ],
   "source": [
    "print(df_missile_attacks[df_missile_attacks.isnull().any(axis=1)])"
   ]
  }
 ],
 "metadata": {
  "kernelspec": {
   "display_name": ".venv",
   "language": "python",
   "name": "python3"
  },
  "language_info": {
   "codemirror_mode": {
    "name": "ipython",
    "version": 3
   },
   "file_extension": ".py",
   "mimetype": "text/x-python",
   "name": "python",
   "nbconvert_exporter": "python",
   "pygments_lexer": "ipython3",
   "version": "3.11.9"
  }
 },
 "nbformat": 4,
 "nbformat_minor": 2
}
